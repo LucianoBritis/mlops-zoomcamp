{
 "cells": [
  {
   "cell_type": "code",
   "execution_count": 1,
   "id": "843dbcb1",
   "metadata": {},
   "outputs": [
    {
     "data": {
      "text/plain": [
       "4"
      ]
     },
     "execution_count": 1,
     "metadata": {},
     "output_type": "execute_result"
    }
   ],
   "source": [
    "import gc\n",
    "gc.collect()"
   ]
  },
  {
   "cell_type": "code",
   "execution_count": 2,
   "id": "cf658aaf",
   "metadata": {},
   "outputs": [],
   "source": [
    "import os\n",
    "import sys\n",
    "import pandas as pd\n",
    "import numpy as np\n",
    "\n",
    "from sklearn.feature_extraction import DictVectorizer"
   ]
  },
  {
   "cell_type": "code",
   "execution_count": 3,
   "id": "65ec47bc",
   "metadata": {},
   "outputs": [
    {
     "data": {
      "text/plain": [
       "'/home/mlflow/Documents/mlops-zoomcamp/cohorts/2025/01-intro/scripts'"
      ]
     },
     "execution_count": 3,
     "metadata": {},
     "output_type": "execute_result"
    }
   ],
   "source": [
    "\n",
    "# Caminho para a pasta scripts\n",
    "os.path.join(os.path.abspath(os.path.join(os.getcwd(), '.')), 'scripts')\n"
   ]
  },
  {
   "cell_type": "code",
   "execution_count": 4,
   "id": "03af6808",
   "metadata": {},
   "outputs": [],
   "source": [
    "from data import read_data, get_data, optimize_dtypes, filter_vect_data"
   ]
  },
  {
   "cell_type": "markdown",
   "id": "ca4a66da",
   "metadata": {},
   "source": [
    "<div class=\"alert alert-block alert-info\">\n",
    "    <p><b>Q1. </b> Downloading the data</p>\n",
    "</div>"
   ]
  },
  {
   "cell_type": "code",
   "execution_count": 5,
   "id": "3fe8f42e",
   "metadata": {},
   "outputs": [
    {
     "name": "stderr",
     "output_type": "stream",
     "text": [
      "data/yellow_tripdata_2023-01.parquet: 100%|██████████| 45.5M/45.5M [00:04<00:00, 10.2MiB/s]\n",
      "data/yellow_tripdata_2023-02.parquet: 100%|██████████| 45.5M/45.5M [00:04<00:00, 9.91MiB/s]\n"
     ]
    }
   ],
   "source": [
    "data_files = [get_data(month, 2023, \"yellow\") for month in range(1,3)]"
   ]
  },
  {
   "cell_type": "code",
   "execution_count": 6,
   "id": "bc86cc61",
   "metadata": {},
   "outputs": [],
   "source": [
    "file_path = f'data'\n",
    "file_name = f'yellow_tripdata_2023-01'\n",
    "df = optimize_dtypes(read_data(file_path, file_name))"
   ]
  },
  {
   "cell_type": "code",
   "execution_count": 7,
   "id": "20126c8b",
   "metadata": {},
   "outputs": [],
   "source": [
    "df.head();"
   ]
  },
  {
   "cell_type": "code",
   "execution_count": 8,
   "id": "f55284ca",
   "metadata": {},
   "outputs": [
    {
     "name": "stdout",
     "output_type": "stream",
     "text": [
      "DataFrame with 3066766 rows and 19 columns.\n"
     ]
    }
   ],
   "source": [
    "print(f'DataFrame with {df.shape[0]} rows and {df.shape[1]} columns.')"
   ]
  },
  {
   "cell_type": "markdown",
   "id": "d3de9c0d",
   "metadata": {},
   "source": [
    "<div class=\"alert alert-block alert-info\">\n",
    "    <p><b>Q2. </b>Computing duration</p>\n",
    "</div>"
   ]
  },
  {
   "cell_type": "code",
   "execution_count": 9,
   "id": "1ad2ad95",
   "metadata": {},
   "outputs": [],
   "source": [
    "df['duration'] = df['tpep_dropoff_datetime'] - df['tpep_pickup_datetime']\n",
    "df['duration'] = df['duration'].dt.total_seconds() / 60"
   ]
  },
  {
   "cell_type": "code",
   "execution_count": 10,
   "id": "fcd3bbc7",
   "metadata": {},
   "outputs": [
    {
     "name": "stdout",
     "output_type": "stream",
     "text": [
      "15.67 42.59\n"
     ]
    }
   ],
   "source": [
    "print(round(df['duration'].mean(), 2), round(df['duration'].std(), 2))"
   ]
  },
  {
   "cell_type": "markdown",
   "id": "c42a9fc0",
   "metadata": {},
   "source": [
    "<div class=\"alert alert-block alert-info\">\n",
    "    <p><b>Q3. </b>Dropping outliers</p>\n",
    "</div>"
   ]
  },
  {
   "cell_type": "code",
   "execution_count": 11,
   "id": "4c57b658",
   "metadata": {},
   "outputs": [
    {
     "name": "stdout",
     "output_type": "stream",
     "text": [
      "Fraction of records left: 98.1220\n"
     ]
    }
   ],
   "source": [
    "# Calculate the fraction of records left\n",
    "fraction_left = len(df[(df.duration >= 1) & (df.duration <= 60)]) / len(df) * 100\n",
    "print(f'Fraction of records left: {fraction_left:.4f}')"
   ]
  },
  {
   "cell_type": "code",
   "execution_count": 12,
   "id": "4e04803e",
   "metadata": {
    "vscode": {
     "languageId": "ruby"
    }
   },
   "outputs": [],
   "source": [
    "# Filter records with duration between 1 and 60 minutes (inclusive)\n",
    "df = df[(df['duration'] >= 1) & (df['duration'] <= 60)].copy(deep=True)"
   ]
  },
  {
   "cell_type": "markdown",
   "id": "0a7427df",
   "metadata": {},
   "source": [
    "<div class=\"alert alert-block alert-info\">\n",
    "    <p><b>Q4. </b>One-hot encoding</p>\n",
    "</div>"
   ]
  },
  {
   "cell_type": "code",
   "execution_count": 13,
   "id": "07c97aab",
   "metadata": {
    "vscode": {
     "languageId": "ruby"
    }
   },
   "outputs": [],
   "source": [
    "df.head();"
   ]
  },
  {
   "cell_type": "code",
   "execution_count": 14,
   "metadata": {
    "vscode": {
     "languageId": "ruby"
    }
   },
   "outputs": [],
   "source": [
    "categorical = ['PULocationID','DOLocationID']\n",
    "df[categorical] = df[categorical].astype(str)"
   ]
  },
  {
   "cell_type": "code",
   "execution_count": 15,
   "id": "54194a10",
   "metadata": {
    "vscode": {
     "languageId": "ruby"
    }
   },
   "outputs": [],
   "source": [
    "train_dicts = df[categorical].to_dict(orient='records')\n",
    "dv = DictVectorizer()\n",
    "X_train = dv.fit_transform(train_dicts)"
   ]
  },
  {
   "cell_type": "code",
   "execution_count": 16,
   "id": "ea91b47e",
   "metadata": {
    "vscode": {
     "languageId": "ruby"
    }
   },
   "outputs": [],
   "source": [
    "# df_dummies = pd.get_dummies(\n",
    "#     df,\n",
    "#     columns=columns,\n",
    "#     prefix_sep='_',\n",
    "#     drop_first=True,\n",
    "#     dtype=np.int8,\n",
    "#     sparse=True) # for large datasets)"
   ]
  },
  {
   "cell_type": "code",
   "execution_count": 17,
   "id": "7b4af5bd",
   "metadata": {
    "vscode": {
     "languageId": "ruby"
    }
   },
   "outputs": [
    {
     "name": "stdout",
     "output_type": "stream",
     "text": [
      "Feature matrix size: (3009173, 515)\n"
     ]
    }
   ],
   "source": [
    "print(f'Feature matrix size: {X_train.shape}')"
   ]
  },
  {
   "cell_type": "markdown",
   "id": "250d6dc0",
   "metadata": {},
   "source": [
    "<div class=\"alert alert-block alert-info\">\n",
    "    <p><b>Q5. </b>Training a model</p>\n",
    "</div>"
   ]
  },
  {
   "cell_type": "code",
   "execution_count": 18,
   "id": "7cf7ca14",
   "metadata": {
    "vscode": {
     "languageId": "ruby"
    }
   },
   "outputs": [],
   "source": [
    "target = 'duration'\n",
    "y_train = np.asarray(df[target])"
   ]
  },
  {
   "cell_type": "code",
   "execution_count": 19,
   "id": "774fba66",
   "metadata": {},
   "outputs": [],
   "source": [
    "from data import training_data"
   ]
  },
  {
   "cell_type": "code",
   "execution_count": 20,
   "id": "23cf3505",
   "metadata": {},
   "outputs": [
    {
     "name": "stdout",
     "output_type": "stream",
     "text": [
      "Train RMSE: 7.649262223700304\n"
     ]
    }
   ],
   "source": [
    "y_pred, out = training_data(X_train, y=y_train)"
   ]
  },
  {
   "cell_type": "markdown",
   "id": "2949d52c",
   "metadata": {},
   "source": [
    "<div class=\"alert alert-block alert-info\">\n",
    "    <p><b>Q6. </b>Evaluating the model</p>\n",
    "</div>"
   ]
  },
  {
   "cell_type": "code",
   "execution_count": 21,
   "id": "723d35d8",
   "metadata": {},
   "outputs": [],
   "source": [
    "file_path = f'data'\n",
    "file_name = f'yellow_tripdata_2023-02'\n",
    "dx = optimize_dtypes(read_data(file_path, file_name))"
   ]
  },
  {
   "cell_type": "code",
   "execution_count": 22,
   "id": "1086a234",
   "metadata": {},
   "outputs": [],
   "source": [
    "dx[\"duration\"] = dx.tpep_dropoff_datetime - dx.tpep_pickup_datetime\n",
    "dx.duration = dx.duration.dt.total_seconds() / 60\n",
    "dx = dx[(dx[\"duration\"] >= 1) & (dx[\"duration\"] <= 60)].copy(deep=True)"
   ]
  },
  {
   "cell_type": "code",
   "execution_count": 23,
   "id": "d8166317",
   "metadata": {},
   "outputs": [],
   "source": [
    "X_val = filter_vect_data(dx)"
   ]
  },
  {
   "cell_type": "code",
   "execution_count": 24,
   "id": "34c92d68",
   "metadata": {},
   "outputs": [],
   "source": [
    "target = 'duration'\n",
    "y_val = np.asarray(dx[target])"
   ]
  },
  {
   "cell_type": "code",
   "execution_count": 25,
   "id": "d89e9774",
   "metadata": {},
   "outputs": [
    {
     "data": {
      "text/plain": [
       "(2855951, 2855951)"
      ]
     },
     "execution_count": 25,
     "metadata": {},
     "output_type": "execute_result"
    }
   ],
   "source": [
    "X_val.shape[0], y_val.shape[0]"
   ]
  },
  {
   "cell_type": "code",
   "execution_count": 26,
   "id": "1a1ee5c6",
   "metadata": {},
   "outputs": [
    {
     "name": "stdout",
     "output_type": "stream",
     "text": [
      "Train RMSE: 7.778948571135243\n"
     ]
    }
   ],
   "source": [
    "y_pred, out = training_data(X_val, y=y_val)"
   ]
  }
 ],
 "metadata": {
  "kernelspec": {
   "display_name": "mlops_eng",
   "language": "python",
   "name": "python3"
  },
  "language_info": {
   "codemirror_mode": {
    "name": "ipython",
    "version": 3
   },
   "file_extension": ".py",
   "mimetype": "text/x-python",
   "name": "python",
   "nbconvert_exporter": "python",
   "pygments_lexer": "ipython3",
   "version": "3.12.9"
  }
 },
 "nbformat": 4,
 "nbformat_minor": 5
}
